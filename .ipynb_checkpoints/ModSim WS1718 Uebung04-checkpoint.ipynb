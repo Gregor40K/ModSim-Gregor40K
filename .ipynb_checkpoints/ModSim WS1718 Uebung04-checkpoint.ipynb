{
 "cells": [
  {
   "cell_type": "markdown",
   "metadata": {},
   "source": [
    "## Simulation und Modellierung WS17/18 - Uebung 04"
   ]
  },
  {
   "cell_type": "markdown",
   "metadata": {},
   "source": [
    "### Aufgabe 1\n",
    "\n",
    "- Schreiben Sie eine List Comprehension, welche zu einer gegebenen ganzen Zahl `p` eine Liste aller Teiler ausser `1` und `p` erstellt.\n",
    "- Schreiben Sie eine List Comprehension, welche eine Liste aller Primzahlen mit weniger als vier Dezimalziffern erstellt.\n",
    "- Ueberpruefen Sie anhand dieser Listen, ob `377` eine Primzahl ist.\n"
   ]
  },
  {
   "cell_type": "code",
   "execution_count": 12,
   "metadata": {},
   "outputs": [
    {
     "name": "stdout",
     "output_type": "stream",
     "text": [
      "[2, 5]\n"
     ]
    }
   ],
   "source": [
    "p=10  #p ist frei wählbar. Muss zuvor aber definiert werden. Allgemeinere Lösung darunter.\n",
    "a=[n for n in range (2,p) if p%n==0]\n",
    "print (a)"
   ]
  },
  {
   "cell_type": "code",
   "execution_count": 13,
   "metadata": {
    "collapsed": true
   },
   "outputs": [],
   "source": [
    "def teiler (p):\n",
    "    t=[n for n in range (2,p) if p%n==0]\n",
    "    return(t)"
   ]
  },
  {
   "cell_type": "code",
   "execution_count": 14,
   "metadata": {},
   "outputs": [
    {
     "name": "stdout",
     "output_type": "stream",
     "text": [
      "[2, 3, 5, 7, 11, 13, 17, 19, 23, 29, 31, 37, 41, 43, 47, 53, 59, 61, 67, 71, 73, 79, 83, 89, 97, 101, 103, 107, 109, 113, 127, 131, 137, 139, 149, 151, 157, 163, 167, 173, 179, 181, 191, 193, 197, 199, 211, 223, 227, 229, 233, 239, 241, 251, 257, 263, 269, 271, 277, 281, 283, 293, 307, 311, 313, 317, 331, 337, 347, 349, 353, 359, 367, 373, 379, 383, 389, 397, 401, 409, 419, 421, 431, 433, 439, 443, 449, 457, 461, 463, 467, 479, 487, 491, 499, 503, 509, 521, 523, 541, 547, 557, 563, 569, 571, 577, 587, 593, 599, 601, 607, 613, 617, 619, 631, 641, 643, 647, 653, 659, 661, 673, 677, 683, 691, 701, 709, 719, 727, 733, 739, 743, 751, 757, 761, 769, 773, 787, 797, 809, 811, 821, 823, 827, 829, 839, 853, 857, 859, 863, 877, 881, 883, 887, 907, 911, 919, 929, 937, 941, 947, 953, 967, 971, 977, 983, 991, 997]\n"
     ]
    }
   ],
   "source": [
    "u = [x for x  in range (2,1000) if teiler(x)==[]]\n",
    "print (u)"
   ]
  },
  {
   "cell_type": "markdown",
   "metadata": {},
   "source": [
    "377 ist, da diese nicht in der Liste u auftaucht, keine Primzahl."
   ]
  },
  {
   "cell_type": "markdown",
   "metadata": {},
   "source": [
    "### Aufgabe 2\n",
    "\n",
    "Schreiben Sie Python Code, welcher die Gleitkommazahl, welche durch eine gegebene 64 Bitfolge beschrieben wird berechnet. \n",
    "\n",
    "z.B. : `s = \"0100000001011110110111010011110000000111111011100000101100001011\"`\n",
    "\n",
    "*Hinweis :* Sie koennen eine Bitfolge `s` durch `int(s,base=2)` in eine ganze Zahl umwandeln."
   ]
  },
  {
   "cell_type": "code",
   "execution_count": 15,
   "metadata": {},
   "outputs": [
    {
     "data": {
      "text/plain": [
       "4638387916139006731"
      ]
     },
     "execution_count": 15,
     "metadata": {},
     "output_type": "execute_result"
    }
   ],
   "source": [
    "int (\"0100000001011110110111010011110000000111111011100000101100001011\",base=2)"
   ]
  },
  {
   "cell_type": "code",
   "execution_count": 2,
   "metadata": {
    "collapsed": true
   },
   "outputs": [],
   "source": [
    "def GKZ(z):\n",
    "    if z==\"0000000000000000000000000000000000000000000000000000000000000000\":\n",
    "        return(0)\n",
    "    elif z==\"1000000000000000000000000000000000000000000000000000000000000000\":\n",
    "        return(-0)\n",
    "    elif z==\"0111111111110000000000000000000000000000000000000000000000000000\":\n",
    "        return(\"positiv infinity\")\n",
    "    elif z==\"1111111111110000000000000000000000000000000000000000000000000000\":\n",
    "        return(\"negativ infinity\")\n",
    "    elif z==\"1111111111111111111111111111111111111111111111111111111111111111\":\n",
    "        return(\"Not a Number\")\n",
    "    elif z==\"1111111111110000000000000000000000000000000000000000000000000001\":\n",
    "        return(\"Not a Number \")\n",
    "    else:\n",
    "        bit = str(z) \n",
    "        vz = bit[0]\n",
    "        Vz = int(vz)\n",
    "        E = bit[1:12]\n",
    "        M = bit[12:64]\n",
    "        e = int(E,base=2)\n",
    "        m = [int(M[x]) for x in range(0,52)]\n",
    "        Mt = 0\n",
    "        for n in range(0,52):\n",
    "            Mt = Mt + (m[n]* 2**(-(n+1)))\n",
    "            q = (-1)**Vz * 2**(e-1023) * (1+Mt)\n",
    "    return(q)"
   ]
  },
  {
   "cell_type": "code",
   "execution_count": 4,
   "metadata": {},
   "outputs": [
    {
     "name": "stdout",
     "output_type": "stream",
     "text": [
      "0.12345\n"
     ]
    }
   ],
   "source": [
    "x = \"0011111110111111100110100110101101010000101100001111001001111100\"\n",
    "print (GKZ(x)) "
   ]
  },
  {
   "cell_type": "markdown",
   "metadata": {},
   "source": [
    "Der folgende Code fuehrt die umgekehrte Operation aus. Aus einer `float64` Gleitkommazahl wird die Bitfolge generiert, welche diese Zahl repraesentiert. Ueberpruefen Sie damit Ihre Berechnung."
   ]
  },
  {
   "cell_type": "code",
   "execution_count": 17,
   "metadata": {},
   "outputs": [
    {
     "name": "stdout",
     "output_type": "stream",
     "text": [
      "0011111110111111100110100110101101010000101100001111001001111100\n"
     ]
    }
   ],
   "source": [
    "import numpy as np \n",
    "x=0.12345                           # schreiben Sie hier x=y, um die Bitfolge der float64 variable y zu erhalten\n",
    "b=np.array(x,dtype=np.float64)       # schreibt den Inhalt von x in ein Numpy array b\n",
    "b.dtype=np.int64                     # interpretiert den Inhalt von b als 64Bit ganze Zahl\n",
    "print(np.binary_repr(b,64))         # Ausgabe der Bitfolge fuer die ganze Zahl b"
   ]
  },
  {
   "cell_type": "markdown",
   "metadata": {},
   "source": [
    "### Zusatzaufgabe (+10%)"
   ]
  },
  {
   "cell_type": "markdown",
   "metadata": {},
   "source": [
    "- Schreiben Sie eine List Comprehension, welche zu zwei gegebenen ganzen Zahlen eine Liste aller gemeinsamen Teiler ausser `1` ausgibt.\n",
    "- Schreiben Sie eine List Comprehension, welche eine Liste mit teilerfremden Paaren `(p,q)` von positiven ganzen Zahlen mit jeweils genau einer Dezimalziffer erzeugt.\n",
    "- Schreiben Sie eine List Comprehension welche alle Paare `((p0,q0),(p1,q1))` aus einer Liste von Paaren `(p,q)` heraussucht, fuer die $p_0\\ne p_1$ und $\\frac{p_0}{q_0} = \\frac{p_1}{q_1}$ gilt. Welches Ergebnis erhalten Sie, wenn Sie diese List Comprehension ueber die Liste der teilerfremden Paare laufen lassen?"
   ]
  },
  {
   "cell_type": "code",
   "execution_count": 18,
   "metadata": {
    "collapsed": true
   },
   "outputs": [],
   "source": [
    "def agT(p,q):\n",
    "    if p>q:\n",
    "        T1 =[n for n in range(2,p) if p%n==0 and q%n==0]\n",
    "        return (T1)\n",
    "    else:\n",
    "        T2 =[n for n in range(2,q) if p%n==0 and q%n==0]\n",
    "        return (T2)    "
   ]
  },
  {
   "cell_type": "code",
   "execution_count": 19,
   "metadata": {
    "collapsed": true
   },
   "outputs": [],
   "source": [
    "def tfP(p,q):\n",
    "    x = [(p,q) for p in range (2,10) and p>0 for q in range (2,10) and q>0 and n for n in range(2,10) if p%n==[] and q%n==[]]\n",
    "    return(x)"
   ]
  },
  {
   "cell_type": "code",
   "execution_count": 24,
   "metadata": {
    "collapsed": true
   },
   "outputs": [],
   "source": [
    "def paare(x):\n",
    "    dec = [\".0\",\".1\",\".2\",\".3\",\".4\",\".5\",\".6\",\".7\",\".8\",\".9\"]\n",
    "    paare = [(p,q) for p in range(1,x) for q in range(2,x) if gT(p,q)==[] and p!=q and q!=0 and (str(p/q)[-2]+str(p/q)[-1]) in dec]\n",
    "    return(paare) "
   ]
  },
  {
   "cell_type": "code",
   "execution_count": 25,
   "metadata": {
    "collapsed": true
   },
   "outputs": [],
   "source": [
    "paare = [(p,q) for p in range(10) for q in range(10) if q!=0]\n",
    "def GP(l):\n",
    "    GP = [((p0,q0),(p1,q1)) for (p0,q0) in l for (p1,q1) in l if (p0/q0)==(p1/q1) and p0!=p1]\n",
    "    return(GP)"
   ]
  },
  {
   "cell_type": "markdown",
   "metadata": {},
   "source": [
    "------------------\n",
    "**nuetzliche Keyboard shotcuts**\n",
    "\n",
    "|              |               |\n",
    "|--------------|---------------|\n",
    "| `Esc`        | Kommando Modus   |\n",
    "| `Enter`      | Editier Modus    |\n",
    "|`Shift-Enter` | ausfuehren, Zelle darunter auswaehlen |\n",
    "|`Ctrl-Enter`  | ausfuehren, selbe Zelle auswaehlen    |\n",
    "|`Alt-Enter`   | ausfuehren, Zelle darunter einfuegen |\n",
    "| `b`          | Zelle unterhalb einfuegen |\n",
    "| `a`          | Zelle ueberhalb einfuegen |\n",
    "| `dd`          | Zelle loeschen |\n",
    "| `z`          | Zelle loeschen rueckgaengig machen |\n",
    "\n",
    "---------------------"
   ]
  }
 ],
 "metadata": {
  "kernelspec": {
   "display_name": "Python 3",
   "language": "python",
   "name": "python3"
  },
  "language_info": {
   "codemirror_mode": {
    "name": "ipython",
    "version": 3
   },
   "file_extension": ".py",
   "mimetype": "text/x-python",
   "name": "python",
   "nbconvert_exporter": "python",
   "pygments_lexer": "ipython3",
   "version": "3.6.3"
  }
 },
 "nbformat": 4,
 "nbformat_minor": 1
}
